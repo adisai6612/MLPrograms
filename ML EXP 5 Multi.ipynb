{
 "cells": [
  {
   "cell_type": "code",
   "execution_count": 3,
   "id": "45c95906",
   "metadata": {},
   "outputs": [
    {
     "data": {
      "text/html": [
       "<div>\n",
       "<style scoped>\n",
       "    .dataframe tbody tr th:only-of-type {\n",
       "        vertical-align: middle;\n",
       "    }\n",
       "\n",
       "    .dataframe tbody tr th {\n",
       "        vertical-align: top;\n",
       "    }\n",
       "\n",
       "    .dataframe thead th {\n",
       "        text-align: right;\n",
       "    }\n",
       "</style>\n",
       "<table border=\"1\" class=\"dataframe\">\n",
       "  <thead>\n",
       "    <tr style=\"text-align: right;\">\n",
       "      <th></th>\n",
       "      <th>Id</th>\n",
       "      <th>MSSubClass</th>\n",
       "      <th>MSZoning</th>\n",
       "      <th>LotArea</th>\n",
       "      <th>LotConfig</th>\n",
       "      <th>BldgType</th>\n",
       "      <th>OverallCond</th>\n",
       "      <th>YearBuilt</th>\n",
       "      <th>YearRemodAdd</th>\n",
       "      <th>Exterior1st</th>\n",
       "      <th>BsmtFinSF2</th>\n",
       "      <th>TotalBsmtSF</th>\n",
       "      <th>SalePrice</th>\n",
       "    </tr>\n",
       "  </thead>\n",
       "  <tbody>\n",
       "    <tr>\n",
       "      <th>0</th>\n",
       "      <td>0</td>\n",
       "      <td>60</td>\n",
       "      <td>RL</td>\n",
       "      <td>8450</td>\n",
       "      <td>Inside</td>\n",
       "      <td>1Fam</td>\n",
       "      <td>5</td>\n",
       "      <td>2003</td>\n",
       "      <td>2003</td>\n",
       "      <td>VinylSd</td>\n",
       "      <td>0.0</td>\n",
       "      <td>856.0</td>\n",
       "      <td>208500.0</td>\n",
       "    </tr>\n",
       "    <tr>\n",
       "      <th>1</th>\n",
       "      <td>1</td>\n",
       "      <td>20</td>\n",
       "      <td>RL</td>\n",
       "      <td>9600</td>\n",
       "      <td>FR2</td>\n",
       "      <td>1Fam</td>\n",
       "      <td>8</td>\n",
       "      <td>1976</td>\n",
       "      <td>1976</td>\n",
       "      <td>MetalSd</td>\n",
       "      <td>0.0</td>\n",
       "      <td>1262.0</td>\n",
       "      <td>181500.0</td>\n",
       "    </tr>\n",
       "    <tr>\n",
       "      <th>2</th>\n",
       "      <td>2</td>\n",
       "      <td>60</td>\n",
       "      <td>RL</td>\n",
       "      <td>11250</td>\n",
       "      <td>Inside</td>\n",
       "      <td>1Fam</td>\n",
       "      <td>5</td>\n",
       "      <td>2001</td>\n",
       "      <td>2002</td>\n",
       "      <td>VinylSd</td>\n",
       "      <td>0.0</td>\n",
       "      <td>920.0</td>\n",
       "      <td>223500.0</td>\n",
       "    </tr>\n",
       "    <tr>\n",
       "      <th>3</th>\n",
       "      <td>3</td>\n",
       "      <td>70</td>\n",
       "      <td>RL</td>\n",
       "      <td>9550</td>\n",
       "      <td>Corner</td>\n",
       "      <td>1Fam</td>\n",
       "      <td>5</td>\n",
       "      <td>1915</td>\n",
       "      <td>1970</td>\n",
       "      <td>Wd Sdng</td>\n",
       "      <td>0.0</td>\n",
       "      <td>756.0</td>\n",
       "      <td>140000.0</td>\n",
       "    </tr>\n",
       "    <tr>\n",
       "      <th>4</th>\n",
       "      <td>4</td>\n",
       "      <td>60</td>\n",
       "      <td>RL</td>\n",
       "      <td>14260</td>\n",
       "      <td>FR2</td>\n",
       "      <td>1Fam</td>\n",
       "      <td>5</td>\n",
       "      <td>2000</td>\n",
       "      <td>2000</td>\n",
       "      <td>VinylSd</td>\n",
       "      <td>0.0</td>\n",
       "      <td>1145.0</td>\n",
       "      <td>250000.0</td>\n",
       "    </tr>\n",
       "  </tbody>\n",
       "</table>\n",
       "</div>"
      ],
      "text/plain": [
       "   Id  MSSubClass MSZoning  LotArea LotConfig BldgType  OverallCond  \\\n",
       "0   0          60       RL     8450    Inside     1Fam            5   \n",
       "1   1          20       RL     9600       FR2     1Fam            8   \n",
       "2   2          60       RL    11250    Inside     1Fam            5   \n",
       "3   3          70       RL     9550    Corner     1Fam            5   \n",
       "4   4          60       RL    14260       FR2     1Fam            5   \n",
       "\n",
       "   YearBuilt  YearRemodAdd Exterior1st  BsmtFinSF2  TotalBsmtSF  SalePrice  \n",
       "0       2003          2003     VinylSd         0.0        856.0   208500.0  \n",
       "1       1976          1976     MetalSd         0.0       1262.0   181500.0  \n",
       "2       2001          2002     VinylSd         0.0        920.0   223500.0  \n",
       "3       1915          1970     Wd Sdng         0.0        756.0   140000.0  \n",
       "4       2000          2000     VinylSd         0.0       1145.0   250000.0  "
      ]
     },
     "execution_count": 3,
     "metadata": {},
     "output_type": "execute_result"
    }
   ],
   "source": [
    "import pandas as pd\n",
    "df = pd.read_csv(\"C:\\\\Users\\\\HP\\\\Downloads\\\\houseprice.csv\")\n",
    "df.head()"
   ]
  },
  {
   "cell_type": "code",
   "execution_count": 4,
   "id": "98f2c28b",
   "metadata": {},
   "outputs": [
    {
     "name": "stdout",
     "output_type": "stream",
     "text": [
      "        Id  MSSubClass MSZoning  LotArea LotConfig BldgType  OverallCond  \\\n",
      "0        0          60       RL     8450    Inside     1Fam            5   \n",
      "1        1          20       RL     9600       FR2     1Fam            8   \n",
      "2        2          60       RL    11250    Inside     1Fam            5   \n",
      "3        3          70       RL     9550    Corner     1Fam            5   \n",
      "4        4          60       RL    14260       FR2     1Fam            5   \n",
      "...    ...         ...      ...      ...       ...      ...          ...   \n",
      "2914  2914         160       RM     1936    Inside    Twnhs            7   \n",
      "2915  2915         160       RM     1894    Inside   TwnhsE            5   \n",
      "2916  2916          20       RL    20000    Inside     1Fam            7   \n",
      "2917  2917          85       RL    10441    Inside     1Fam            5   \n",
      "2918  2918          60       RL     9627    Inside     1Fam            5   \n",
      "\n",
      "      YearBuilt  YearRemodAdd Exterior1st  BsmtFinSF2  TotalBsmtSF  SalePrice  \n",
      "0          2003          2003     VinylSd         0.0        856.0   208500.0  \n",
      "1          1976          1976     MetalSd         0.0       1262.0   181500.0  \n",
      "2          2001          2002     VinylSd         0.0        920.0   223500.0  \n",
      "3          1915          1970     Wd Sdng         0.0        756.0   140000.0  \n",
      "4          2000          2000     VinylSd         0.0       1145.0   250000.0  \n",
      "...         ...           ...         ...         ...          ...        ...  \n",
      "2914       1970          1970     CemntBd         0.0        546.0        NaN  \n",
      "2915       1970          1970     CemntBd         0.0        546.0        NaN  \n",
      "2916       1960          1996     VinylSd         0.0       1224.0        NaN  \n",
      "2917       1992          1992     HdBoard         0.0        912.0        NaN  \n",
      "2918       1993          1994     HdBoard         0.0        996.0        NaN  \n",
      "\n",
      "[2919 rows x 13 columns]\n"
     ]
    }
   ],
   "source": [
    "print(df)"
   ]
  },
  {
   "cell_type": "code",
   "execution_count": 5,
   "id": "15ccc1a3",
   "metadata": {},
   "outputs": [
    {
     "name": "stdout",
     "output_type": "stream",
     "text": [
      "         Id  MSSubClass  MSZoning  LotArea  LotConfig  BldgType  OverallCond  \\\n",
      "0     False       False     False    False      False     False        False   \n",
      "1     False       False     False    False      False     False        False   \n",
      "2     False       False     False    False      False     False        False   \n",
      "3     False       False     False    False      False     False        False   \n",
      "4     False       False     False    False      False     False        False   \n",
      "...     ...         ...       ...      ...        ...       ...          ...   \n",
      "2914  False       False     False    False      False     False        False   \n",
      "2915  False       False     False    False      False     False        False   \n",
      "2916  False       False     False    False      False     False        False   \n",
      "2917  False       False     False    False      False     False        False   \n",
      "2918  False       False     False    False      False     False        False   \n",
      "\n",
      "      YearBuilt  YearRemodAdd  Exterior1st  BsmtFinSF2  TotalBsmtSF  SalePrice  \n",
      "0         False         False        False       False        False      False  \n",
      "1         False         False        False       False        False      False  \n",
      "2         False         False        False       False        False      False  \n",
      "3         False         False        False       False        False      False  \n",
      "4         False         False        False       False        False      False  \n",
      "...         ...           ...          ...         ...          ...        ...  \n",
      "2914      False         False        False       False        False       True  \n",
      "2915      False         False        False       False        False       True  \n",
      "2916      False         False        False       False        False       True  \n",
      "2917      False         False        False       False        False       True  \n",
      "2918      False         False        False       False        False       True  \n",
      "\n",
      "[2919 rows x 13 columns]\n"
     ]
    }
   ],
   "source": [
    "print(df.isnull())"
   ]
  },
  {
   "cell_type": "code",
   "execution_count": 6,
   "id": "5275b25a",
   "metadata": {},
   "outputs": [
    {
     "name": "stdout",
     "output_type": "stream",
     "text": [
      "Id                 0\n",
      "MSSubClass         0\n",
      "MSZoning           4\n",
      "LotArea            0\n",
      "LotConfig          0\n",
      "BldgType           0\n",
      "OverallCond        0\n",
      "YearBuilt          0\n",
      "YearRemodAdd       0\n",
      "Exterior1st        1\n",
      "BsmtFinSF2         1\n",
      "TotalBsmtSF        1\n",
      "SalePrice       1459\n",
      "dtype: int64\n"
     ]
    }
   ],
   "source": [
    "print(df.isnull().sum())\n"
   ]
  },
  {
   "cell_type": "code",
   "execution_count": 7,
   "id": "8b7b6139",
   "metadata": {},
   "outputs": [
    {
     "name": "stdout",
     "output_type": "stream",
     "text": [
      "180921.19589041095\n",
      "        Id  MSSubClass MSZoning  LotArea LotConfig BldgType  OverallCond  \\\n",
      "0        0          60       RL     8450    Inside     1Fam            5   \n",
      "1        1          20       RL     9600       FR2     1Fam            8   \n",
      "2        2          60       RL    11250    Inside     1Fam            5   \n",
      "3        3          70       RL     9550    Corner     1Fam            5   \n",
      "4        4          60       RL    14260       FR2     1Fam            5   \n",
      "...    ...         ...      ...      ...       ...      ...          ...   \n",
      "2914  2914         160       RM     1936    Inside    Twnhs            7   \n",
      "2915  2915         160       RM     1894    Inside   TwnhsE            5   \n",
      "2916  2916          20       RL    20000    Inside     1Fam            7   \n",
      "2917  2917          85       RL    10441    Inside     1Fam            5   \n",
      "2918  2918          60       RL     9627    Inside     1Fam            5   \n",
      "\n",
      "      YearBuilt  YearRemodAdd Exterior1st  BsmtFinSF2  TotalBsmtSF  \\\n",
      "0          2003          2003     VinylSd         0.0        856.0   \n",
      "1          1976          1976     MetalSd         0.0       1262.0   \n",
      "2          2001          2002     VinylSd         0.0        920.0   \n",
      "3          1915          1970     Wd Sdng         0.0        756.0   \n",
      "4          2000          2000     VinylSd         0.0       1145.0   \n",
      "...         ...           ...         ...         ...          ...   \n",
      "2914       1970          1970     CemntBd         0.0        546.0   \n",
      "2915       1970          1970     CemntBd         0.0        546.0   \n",
      "2916       1960          1996     VinylSd         0.0       1224.0   \n",
      "2917       1992          1992     HdBoard         0.0        912.0   \n",
      "2918       1993          1994     HdBoard         0.0        996.0   \n",
      "\n",
      "         SalePrice  \n",
      "0     208500.00000  \n",
      "1     181500.00000  \n",
      "2     223500.00000  \n",
      "3     140000.00000  \n",
      "4     250000.00000  \n",
      "...            ...  \n",
      "2914  180921.19589  \n",
      "2915  180921.19589  \n",
      "2916  180921.19589  \n",
      "2917  180921.19589  \n",
      "2918  180921.19589  \n",
      "\n",
      "[2919 rows x 13 columns]\n"
     ]
    }
   ],
   "source": [
    "x = df[\"SalePrice\"].mean()\n",
    "print(x)\n",
    "df[\"SalePrice\"].fillna(x, inplace = True)\n",
    "print(df)"
   ]
  },
  {
   "cell_type": "code",
   "execution_count": 8,
   "id": "a5605741",
   "metadata": {},
   "outputs": [
    {
     "name": "stdout",
     "output_type": "stream",
     "text": [
      "989.5\n",
      "        Id  MSSubClass MSZoning  LotArea LotConfig BldgType  OverallCond  \\\n",
      "0        0          60       RL     8450    Inside     1Fam            5   \n",
      "1        1          20       RL     9600       FR2     1Fam            8   \n",
      "2        2          60       RL    11250    Inside     1Fam            5   \n",
      "3        3          70       RL     9550    Corner     1Fam            5   \n",
      "4        4          60       RL    14260       FR2     1Fam            5   \n",
      "...    ...         ...      ...      ...       ...      ...          ...   \n",
      "2914  2914         160       RM     1936    Inside    Twnhs            7   \n",
      "2915  2915         160       RM     1894    Inside   TwnhsE            5   \n",
      "2916  2916          20       RL    20000    Inside     1Fam            7   \n",
      "2917  2917          85       RL    10441    Inside     1Fam            5   \n",
      "2918  2918          60       RL     9627    Inside     1Fam            5   \n",
      "\n",
      "      YearBuilt  YearRemodAdd Exterior1st  BsmtFinSF2  TotalBsmtSF  \\\n",
      "0          2003          2003     VinylSd         0.0        856.0   \n",
      "1          1976          1976     MetalSd         0.0       1262.0   \n",
      "2          2001          2002     VinylSd         0.0        920.0   \n",
      "3          1915          1970     Wd Sdng         0.0        756.0   \n",
      "4          2000          2000     VinylSd         0.0       1145.0   \n",
      "...         ...           ...         ...         ...          ...   \n",
      "2914       1970          1970     CemntBd         0.0        546.0   \n",
      "2915       1970          1970     CemntBd         0.0        546.0   \n",
      "2916       1960          1996     VinylSd         0.0       1224.0   \n",
      "2917       1992          1992     HdBoard         0.0        912.0   \n",
      "2918       1993          1994     HdBoard         0.0        996.0   \n",
      "\n",
      "         SalePrice  \n",
      "0     208500.00000  \n",
      "1     181500.00000  \n",
      "2     223500.00000  \n",
      "3     140000.00000  \n",
      "4     250000.00000  \n",
      "...            ...  \n",
      "2914  180921.19589  \n",
      "2915  180921.19589  \n",
      "2916  180921.19589  \n",
      "2917  180921.19589  \n",
      "2918  180921.19589  \n",
      "\n",
      "[2919 rows x 13 columns]\n"
     ]
    }
   ],
   "source": [
    "Y = df[\"TotalBsmtSF\"].median()\n",
    "print(Y)\n",
    "df[\"TotalBsmtSF\"].fillna(x, inplace = True)\n",
    "print(df)"
   ]
  },
  {
   "cell_type": "code",
   "execution_count": 9,
   "id": "01535f30",
   "metadata": {},
   "outputs": [
    {
     "name": "stdout",
     "output_type": "stream",
     "text": [
      "0.0\n",
      "        Id  MSSubClass MSZoning  LotArea LotConfig BldgType  OverallCond  \\\n",
      "0        0          60       RL     8450    Inside     1Fam            5   \n",
      "1        1          20       RL     9600       FR2     1Fam            8   \n",
      "2        2          60       RL    11250    Inside     1Fam            5   \n",
      "3        3          70       RL     9550    Corner     1Fam            5   \n",
      "4        4          60       RL    14260       FR2     1Fam            5   \n",
      "...    ...         ...      ...      ...       ...      ...          ...   \n",
      "2914  2914         160       RM     1936    Inside    Twnhs            7   \n",
      "2915  2915         160       RM     1894    Inside   TwnhsE            5   \n",
      "2916  2916          20       RL    20000    Inside     1Fam            7   \n",
      "2917  2917          85       RL    10441    Inside     1Fam            5   \n",
      "2918  2918          60       RL     9627    Inside     1Fam            5   \n",
      "\n",
      "      YearBuilt  YearRemodAdd Exterior1st  BsmtFinSF2  TotalBsmtSF  \\\n",
      "0          2003          2003     VinylSd         0.0        856.0   \n",
      "1          1976          1976     MetalSd         0.0       1262.0   \n",
      "2          2001          2002     VinylSd         0.0        920.0   \n",
      "3          1915          1970     Wd Sdng         0.0        756.0   \n",
      "4          2000          2000     VinylSd         0.0       1145.0   \n",
      "...         ...           ...         ...         ...          ...   \n",
      "2914       1970          1970     CemntBd         0.0        546.0   \n",
      "2915       1970          1970     CemntBd         0.0        546.0   \n",
      "2916       1960          1996     VinylSd         0.0       1224.0   \n",
      "2917       1992          1992     HdBoard         0.0        912.0   \n",
      "2918       1993          1994     HdBoard         0.0        996.0   \n",
      "\n",
      "         SalePrice  \n",
      "0     208500.00000  \n",
      "1     181500.00000  \n",
      "2     223500.00000  \n",
      "3     140000.00000  \n",
      "4     250000.00000  \n",
      "...            ...  \n",
      "2914  180921.19589  \n",
      "2915  180921.19589  \n",
      "2916  180921.19589  \n",
      "2917  180921.19589  \n",
      "2918  180921.19589  \n",
      "\n",
      "[2919 rows x 13 columns]\n"
     ]
    }
   ],
   "source": [
    "z = df[\"BsmtFinSF2\"].median()\n",
    "print(z)\n",
    "df[\"BsmtFinSF2\"].fillna(x, inplace = True)\n",
    "print(df)"
   ]
  },
  {
   "cell_type": "code",
   "execution_count": 10,
   "id": "98a49460",
   "metadata": {},
   "outputs": [
    {
     "name": "stdout",
     "output_type": "stream",
     "text": [
      "        Id  MSSubClass  MSZoning  LotArea LotConfig BldgType  OverallCond  \\\n",
      "0        0          60         3     8450    Inside     1Fam            5   \n",
      "1        1          20         3     9600       FR2     1Fam            8   \n",
      "2        2          60         3    11250    Inside     1Fam            5   \n",
      "3        3          70         3     9550    Corner     1Fam            5   \n",
      "4        4          60         3    14260       FR2     1Fam            5   \n",
      "...    ...         ...       ...      ...       ...      ...          ...   \n",
      "2914  2914         160         4     1936    Inside    Twnhs            7   \n",
      "2915  2915         160         4     1894    Inside   TwnhsE            5   \n",
      "2916  2916          20         3    20000    Inside     1Fam            7   \n",
      "2917  2917          85         3    10441    Inside     1Fam            5   \n",
      "2918  2918          60         3     9627    Inside     1Fam            5   \n",
      "\n",
      "      YearBuilt  YearRemodAdd Exterior1st  BsmtFinSF2  TotalBsmtSF  \\\n",
      "0          2003          2003     VinylSd         0.0        856.0   \n",
      "1          1976          1976     MetalSd         0.0       1262.0   \n",
      "2          2001          2002     VinylSd         0.0        920.0   \n",
      "3          1915          1970     Wd Sdng         0.0        756.0   \n",
      "4          2000          2000     VinylSd         0.0       1145.0   \n",
      "...         ...           ...         ...         ...          ...   \n",
      "2914       1970          1970     CemntBd         0.0        546.0   \n",
      "2915       1970          1970     CemntBd         0.0        546.0   \n",
      "2916       1960          1996     VinylSd         0.0       1224.0   \n",
      "2917       1992          1992     HdBoard         0.0        912.0   \n",
      "2918       1993          1994     HdBoard         0.0        996.0   \n",
      "\n",
      "         SalePrice  \n",
      "0     208500.00000  \n",
      "1     181500.00000  \n",
      "2     223500.00000  \n",
      "3     140000.00000  \n",
      "4     250000.00000  \n",
      "...            ...  \n",
      "2914  180921.19589  \n",
      "2915  180921.19589  \n",
      "2916  180921.19589  \n",
      "2917  180921.19589  \n",
      "2918  180921.19589  \n",
      "\n",
      "[2919 rows x 13 columns]\n",
      "        Id  MSSubClass  MSZoning  LotArea  LotConfig BldgType  OverallCond  \\\n",
      "0        0          60         3     8450          4     1Fam            5   \n",
      "1        1          20         3     9600          2     1Fam            8   \n",
      "2        2          60         3    11250          4     1Fam            5   \n",
      "3        3          70         3     9550          0     1Fam            5   \n",
      "4        4          60         3    14260          2     1Fam            5   \n",
      "...    ...         ...       ...      ...        ...      ...          ...   \n",
      "2914  2914         160         4     1936          4    Twnhs            7   \n",
      "2915  2915         160         4     1894          4   TwnhsE            5   \n",
      "2916  2916          20         3    20000          4     1Fam            7   \n",
      "2917  2917          85         3    10441          4     1Fam            5   \n",
      "2918  2918          60         3     9627          4     1Fam            5   \n",
      "\n",
      "      YearBuilt  YearRemodAdd Exterior1st  BsmtFinSF2  TotalBsmtSF  \\\n",
      "0          2003          2003     VinylSd         0.0        856.0   \n",
      "1          1976          1976     MetalSd         0.0       1262.0   \n",
      "2          2001          2002     VinylSd         0.0        920.0   \n",
      "3          1915          1970     Wd Sdng         0.0        756.0   \n",
      "4          2000          2000     VinylSd         0.0       1145.0   \n",
      "...         ...           ...         ...         ...          ...   \n",
      "2914       1970          1970     CemntBd         0.0        546.0   \n",
      "2915       1970          1970     CemntBd         0.0        546.0   \n",
      "2916       1960          1996     VinylSd         0.0       1224.0   \n",
      "2917       1992          1992     HdBoard         0.0        912.0   \n",
      "2918       1993          1994     HdBoard         0.0        996.0   \n",
      "\n",
      "         SalePrice  \n",
      "0     208500.00000  \n",
      "1     181500.00000  \n",
      "2     223500.00000  \n",
      "3     140000.00000  \n",
      "4     250000.00000  \n",
      "...            ...  \n",
      "2914  180921.19589  \n",
      "2915  180921.19589  \n",
      "2916  180921.19589  \n",
      "2917  180921.19589  \n",
      "2918  180921.19589  \n",
      "\n",
      "[2919 rows x 13 columns]\n",
      "        Id  MSSubClass  MSZoning  LotArea  LotConfig  BldgType  OverallCond  \\\n",
      "0        0          60         3     8450          4         0            5   \n",
      "1        1          20         3     9600          2         0            8   \n",
      "2        2          60         3    11250          4         0            5   \n",
      "3        3          70         3     9550          0         0            5   \n",
      "4        4          60         3    14260          2         0            5   \n",
      "...    ...         ...       ...      ...        ...       ...          ...   \n",
      "2914  2914         160         4     1936          4         3            7   \n",
      "2915  2915         160         4     1894          4         4            5   \n",
      "2916  2916          20         3    20000          4         0            7   \n",
      "2917  2917          85         3    10441          4         0            5   \n",
      "2918  2918          60         3     9627          4         0            5   \n",
      "\n",
      "      YearBuilt  YearRemodAdd Exterior1st  BsmtFinSF2  TotalBsmtSF  \\\n",
      "0          2003          2003     VinylSd         0.0        856.0   \n",
      "1          1976          1976     MetalSd         0.0       1262.0   \n",
      "2          2001          2002     VinylSd         0.0        920.0   \n",
      "3          1915          1970     Wd Sdng         0.0        756.0   \n",
      "4          2000          2000     VinylSd         0.0       1145.0   \n",
      "...         ...           ...         ...         ...          ...   \n",
      "2914       1970          1970     CemntBd         0.0        546.0   \n",
      "2915       1970          1970     CemntBd         0.0        546.0   \n",
      "2916       1960          1996     VinylSd         0.0       1224.0   \n",
      "2917       1992          1992     HdBoard         0.0        912.0   \n",
      "2918       1993          1994     HdBoard         0.0        996.0   \n",
      "\n",
      "         SalePrice  \n",
      "0     208500.00000  \n",
      "1     181500.00000  \n",
      "2     223500.00000  \n",
      "3     140000.00000  \n",
      "4     250000.00000  \n",
      "...            ...  \n",
      "2914  180921.19589  \n",
      "2915  180921.19589  \n",
      "2916  180921.19589  \n",
      "2917  180921.19589  \n",
      "2918  180921.19589  \n",
      "\n",
      "[2919 rows x 13 columns]\n",
      "        Id  MSSubClass  MSZoning  LotArea  LotConfig  BldgType  OverallCond  \\\n",
      "0        0          60         3     8450          4         0            5   \n",
      "1        1          20         3     9600          2         0            8   \n",
      "2        2          60         3    11250          4         0            5   \n",
      "3        3          70         3     9550          0         0            5   \n",
      "4        4          60         3    14260          2         0            5   \n",
      "...    ...         ...       ...      ...        ...       ...          ...   \n",
      "2914  2914         160         4     1936          4         3            7   \n",
      "2915  2915         160         4     1894          4         4            5   \n",
      "2916  2916          20         3    20000          4         0            7   \n",
      "2917  2917          85         3    10441          4         0            5   \n",
      "2918  2918          60         3     9627          4         0            5   \n",
      "\n",
      "      YearBuilt  YearRemodAdd  Exterior1st  BsmtFinSF2  TotalBsmtSF  \\\n",
      "0          2003          2003           12         0.0        856.0   \n",
      "1          1976          1976            8         0.0       1262.0   \n",
      "2          2001          2002           12         0.0        920.0   \n",
      "3          1915          1970           13         0.0        756.0   \n",
      "4          2000          2000           12         0.0       1145.0   \n",
      "...         ...           ...          ...         ...          ...   \n",
      "2914       1970          1970            5         0.0        546.0   \n",
      "2915       1970          1970            5         0.0        546.0   \n",
      "2916       1960          1996           12         0.0       1224.0   \n",
      "2917       1992          1992            6         0.0        912.0   \n",
      "2918       1993          1994            6         0.0        996.0   \n",
      "\n",
      "         SalePrice  \n",
      "0     208500.00000  \n",
      "1     181500.00000  \n",
      "2     223500.00000  \n",
      "3     140000.00000  \n",
      "4     250000.00000  \n",
      "...            ...  \n",
      "2914  180921.19589  \n",
      "2915  180921.19589  \n",
      "2916  180921.19589  \n",
      "2917  180921.19589  \n",
      "2918  180921.19589  \n",
      "\n",
      "[2919 rows x 13 columns]\n"
     ]
    }
   ],
   "source": [
    "from sklearn.preprocessing import LabelEncoder\n",
    "labelencoder_M = LabelEncoder()\n",
    "df[\"MSZoning\"] = labelencoder_M.fit_transform(df[\"MSZoning\"])\n",
    "print(df)\n",
    "labelencoder_L = LabelEncoder()\n",
    "df[\"LotConfig\"] = labelencoder_L.fit_transform(df[\"LotConfig\"])\n",
    "print(df)\n",
    "labelencoder_B = LabelEncoder()\n",
    "df[\"BldgType\"] = labelencoder_B.fit_transform(df[\"BldgType\"])\n",
    "print(df)\n",
    "labelencoder_E = LabelEncoder()\n",
    "df[\"Exterior1st\"] = labelencoder_E.fit_transform(df[\"Exterior1st\"])\n",
    "print(df)"
   ]
  },
  {
   "cell_type": "code",
   "execution_count": 11,
   "id": "ce896663",
   "metadata": {},
   "outputs": [
    {
     "name": "stdout",
     "output_type": "stream",
     "text": [
      "Id              0\n",
      "MSSubClass      0\n",
      "MSZoning        0\n",
      "LotArea         0\n",
      "LotConfig       0\n",
      "BldgType        0\n",
      "OverallCond     0\n",
      "YearBuilt       0\n",
      "YearRemodAdd    0\n",
      "Exterior1st     0\n",
      "BsmtFinSF2      0\n",
      "TotalBsmtSF     0\n",
      "SalePrice       0\n",
      "dtype: int64\n"
     ]
    }
   ],
   "source": [
    "print(df.isnull().sum())"
   ]
  },
  {
   "cell_type": "code",
   "execution_count": 12,
   "id": "41d3c005",
   "metadata": {},
   "outputs": [
    {
     "name": "stdout",
     "output_type": "stream",
     "text": [
      "[[0.000e+00 6.000e+01 3.000e+00 ... 1.200e+01 0.000e+00 8.560e+02]\n",
      " [1.000e+00 2.000e+01 3.000e+00 ... 8.000e+00 0.000e+00 1.262e+03]\n",
      " [2.000e+00 6.000e+01 3.000e+00 ... 1.200e+01 0.000e+00 9.200e+02]\n",
      " ...\n",
      " [2.916e+03 2.000e+01 3.000e+00 ... 1.200e+01 0.000e+00 1.224e+03]\n",
      " [2.917e+03 8.500e+01 3.000e+00 ... 6.000e+00 0.000e+00 9.120e+02]\n",
      " [2.918e+03 6.000e+01 3.000e+00 ... 6.000e+00 0.000e+00 9.960e+02]]\n",
      "[208500.         181500.         223500.         ... 180921.19589041\n",
      " 180921.19589041 180921.19589041]\n"
     ]
    }
   ],
   "source": [
    "X = df.iloc[:, :-1].values   #:all rows column last 1 delete\n",
    "Y = df.iloc[:,12].values\n",
    "\n",
    "print(X)\n",
    "print(Y)"
   ]
  },
  {
   "cell_type": "code",
   "execution_count": 13,
   "id": "a628d87d",
   "metadata": {},
   "outputs": [
    {
     "name": "stdout",
     "output_type": "stream",
     "text": [
      "Shape of X_train = (2335, 12)\n",
      "Shape of Y_train = (2335,)\n",
      "Shape of X_train = (584, 12)\n",
      "Shape of Y_train = (584,)\n"
     ]
    }
   ],
   "source": [
    "from sklearn.model_selection import train_test_split\n",
    "X_train,X_test,Y_train,Y_test=train_test_split(X,Y,test_size=0.2,random_state=0)\n",
    "\n",
    "print('Shape of X_train =',X_train.shape)\n",
    "print('Shape of Y_train =',Y_train.shape)\n",
    "print('Shape of X_train =',X_test.shape)\n",
    "print('Shape of Y_train =',Y_test.shape)\n"
   ]
  },
  {
   "cell_type": "code",
   "execution_count": 14,
   "id": "48501216",
   "metadata": {},
   "outputs": [
    {
     "data": {
      "text/html": [
       "<style>#sk-container-id-1 {color: black;}#sk-container-id-1 pre{padding: 0;}#sk-container-id-1 div.sk-toggleable {background-color: white;}#sk-container-id-1 label.sk-toggleable__label {cursor: pointer;display: block;width: 100%;margin-bottom: 0;padding: 0.3em;box-sizing: border-box;text-align: center;}#sk-container-id-1 label.sk-toggleable__label-arrow:before {content: \"▸\";float: left;margin-right: 0.25em;color: #696969;}#sk-container-id-1 label.sk-toggleable__label-arrow:hover:before {color: black;}#sk-container-id-1 div.sk-estimator:hover label.sk-toggleable__label-arrow:before {color: black;}#sk-container-id-1 div.sk-toggleable__content {max-height: 0;max-width: 0;overflow: hidden;text-align: left;background-color: #f0f8ff;}#sk-container-id-1 div.sk-toggleable__content pre {margin: 0.2em;color: black;border-radius: 0.25em;background-color: #f0f8ff;}#sk-container-id-1 input.sk-toggleable__control:checked~div.sk-toggleable__content {max-height: 200px;max-width: 100%;overflow: auto;}#sk-container-id-1 input.sk-toggleable__control:checked~label.sk-toggleable__label-arrow:before {content: \"▾\";}#sk-container-id-1 div.sk-estimator input.sk-toggleable__control:checked~label.sk-toggleable__label {background-color: #d4ebff;}#sk-container-id-1 div.sk-label input.sk-toggleable__control:checked~label.sk-toggleable__label {background-color: #d4ebff;}#sk-container-id-1 input.sk-hidden--visually {border: 0;clip: rect(1px 1px 1px 1px);clip: rect(1px, 1px, 1px, 1px);height: 1px;margin: -1px;overflow: hidden;padding: 0;position: absolute;width: 1px;}#sk-container-id-1 div.sk-estimator {font-family: monospace;background-color: #f0f8ff;border: 1px dotted black;border-radius: 0.25em;box-sizing: border-box;margin-bottom: 0.5em;}#sk-container-id-1 div.sk-estimator:hover {background-color: #d4ebff;}#sk-container-id-1 div.sk-parallel-item::after {content: \"\";width: 100%;border-bottom: 1px solid gray;flex-grow: 1;}#sk-container-id-1 div.sk-label:hover label.sk-toggleable__label {background-color: #d4ebff;}#sk-container-id-1 div.sk-serial::before {content: \"\";position: absolute;border-left: 1px solid gray;box-sizing: border-box;top: 0;bottom: 0;left: 50%;z-index: 0;}#sk-container-id-1 div.sk-serial {display: flex;flex-direction: column;align-items: center;background-color: white;padding-right: 0.2em;padding-left: 0.2em;position: relative;}#sk-container-id-1 div.sk-item {position: relative;z-index: 1;}#sk-container-id-1 div.sk-parallel {display: flex;align-items: stretch;justify-content: center;background-color: white;position: relative;}#sk-container-id-1 div.sk-item::before, #sk-container-id-1 div.sk-parallel-item::before {content: \"\";position: absolute;border-left: 1px solid gray;box-sizing: border-box;top: 0;bottom: 0;left: 50%;z-index: -1;}#sk-container-id-1 div.sk-parallel-item {display: flex;flex-direction: column;z-index: 1;position: relative;background-color: white;}#sk-container-id-1 div.sk-parallel-item:first-child::after {align-self: flex-end;width: 50%;}#sk-container-id-1 div.sk-parallel-item:last-child::after {align-self: flex-start;width: 50%;}#sk-container-id-1 div.sk-parallel-item:only-child::after {width: 0;}#sk-container-id-1 div.sk-dashed-wrapped {border: 1px dashed gray;margin: 0 0.4em 0.5em 0.4em;box-sizing: border-box;padding-bottom: 0.4em;background-color: white;}#sk-container-id-1 div.sk-label label {font-family: monospace;font-weight: bold;display: inline-block;line-height: 1.2em;}#sk-container-id-1 div.sk-label-container {text-align: center;}#sk-container-id-1 div.sk-container {/* jupyter's `normalize.less` sets `[hidden] { display: none; }` but bootstrap.min.css set `[hidden] { display: none !important; }` so we also need the `!important` here to be able to override the default hidden behavior on the sphinx rendered scikit-learn.org. See: https://github.com/scikit-learn/scikit-learn/issues/21755 */display: inline-block !important;position: relative;}#sk-container-id-1 div.sk-text-repr-fallback {display: none;}</style><div id=\"sk-container-id-1\" class=\"sk-top-container\"><div class=\"sk-text-repr-fallback\"><pre>LinearRegression()</pre><b>In a Jupyter environment, please rerun this cell to show the HTML representation or trust the notebook. <br />On GitHub, the HTML representation is unable to render, please try loading this page with nbviewer.org.</b></div><div class=\"sk-container\" hidden><div class=\"sk-item\"><div class=\"sk-estimator sk-toggleable\"><input class=\"sk-toggleable__control sk-hidden--visually\" id=\"sk-estimator-id-1\" type=\"checkbox\" checked><label for=\"sk-estimator-id-1\" class=\"sk-toggleable__label sk-toggleable__label-arrow\">LinearRegression</label><div class=\"sk-toggleable__content\"><pre>LinearRegression()</pre></div></div></div></div></div>"
      ],
      "text/plain": [
       "LinearRegression()"
      ]
     },
     "execution_count": 14,
     "metadata": {},
     "output_type": "execute_result"
    }
   ],
   "source": [
    "from sklearn.linear_model import LinearRegression\n",
    "lr=LinearRegression()\n",
    "lr.fit(X_train,Y_train)"
   ]
  },
  {
   "cell_type": "code",
   "execution_count": 15,
   "id": "59214b48",
   "metadata": {},
   "outputs": [
    {
     "name": "stdout",
     "output_type": "stream",
     "text": [
      "Coeff [ 1.04856043e+00  2.17681277e+02 -5.11499956e+02  9.57416740e-01\n",
      " -4.65648735e+02 -9.16425078e+03  2.86520443e+03  4.06688261e+02\n",
      "  3.88399645e+02 -1.31469963e+01 -3.62537077e+01  3.66583577e+01]\n"
     ]
    }
   ],
   "source": [
    "print(\"Coeff\",lr.coef_)"
   ]
  },
  {
   "cell_type": "code",
   "execution_count": 16,
   "id": "ea0b89f7",
   "metadata": {},
   "outputs": [
    {
     "data": {
      "text/plain": [
       "-1459724.6231168408"
      ]
     },
     "execution_count": 16,
     "metadata": {},
     "output_type": "execute_result"
    }
   ],
   "source": [
    "lr.intercept_"
   ]
  },
  {
   "cell_type": "code",
   "execution_count": 17,
   "id": "29d8861c",
   "metadata": {},
   "outputs": [
    {
     "data": {
      "text/plain": [
       "array([138050.2145263 , 121885.16598506, 123996.72562728, 241056.5545722 ,\n",
       "       221658.27637737, 203381.53159755, 160030.40072205, 202133.34201522,\n",
       "       177507.47896679, 175722.2709691 , 146871.97439527, 196749.12041634,\n",
       "       152486.18500609, 188512.26737892, 181506.13766255, 214524.95640172,\n",
       "       164611.89033694, 168784.57205143, 197396.56458325, 171687.55078458,\n",
       "       178009.07476826, 138073.66362113, 222659.31439108, 162498.60841444,\n",
       "       239813.12615063, 148506.30916781, 155218.91260429, 154767.66251787,\n",
       "       170963.53145492, 181183.95840888, 160921.13734899, 146350.53034327,\n",
       "       196749.25716049, 148838.68209538, 166565.57904584, 163447.30559557,\n",
       "       172992.73548247, 166692.48848909, 197119.72786966, 183390.70734478,\n",
       "       208584.01160794, 147724.98679143, 169538.07575227, 214543.54763866,\n",
       "       213779.06511694, 162268.99261655, 195139.49167426, 185525.91041711,\n",
       "       158123.897267  , 167042.7116777 , 197696.72889124, 197036.23632079,\n",
       "       142135.87047515, 197842.17814823, 181761.07059029, 157009.32692829,\n",
       "       194990.93456022, 163690.62226108, 186766.89804723, 137974.17320552,\n",
       "       147558.66405741, 169601.51820942, 140551.98126794, 169457.99413337,\n",
       "       163233.93814691, 187242.73520815, 158931.28180832, 201636.94277323,\n",
       "       179472.3588855 , 172305.05549673, 209120.1858727 , 168672.35318592,\n",
       "       151982.54455527, 190556.48404534, 169719.09239671, 138334.79628   ,\n",
       "       166016.65368873, 175077.47977101, 174481.34356379, 214242.08547028,\n",
       "       163068.12149573, 146972.3185708 , 158948.89136949, 185855.40779517,\n",
       "       215056.05477093, 185517.12347749, 191222.40813443, 203913.61531604,\n",
       "       182138.02980071, 221536.53683169, 185937.07556453, 216123.72053532,\n",
       "       239553.36669091, 164890.64873213, 168513.94256582, 138719.58722531,\n",
       "       148785.36173004, 200938.69010369, 145268.01847347, 158071.13707472,\n",
       "       120692.73187805, 226789.73961639, 208910.1926585 , 171848.45998693,\n",
       "       205188.77899073, 150871.6969471 , 145087.9419909 , 139116.80698576,\n",
       "       170356.33344819, 207513.00796771, 220608.92018129, 162688.51637417,\n",
       "       161045.18506873, 188396.42225551, 205479.07112863, 190796.50706488,\n",
       "       147704.2319657 , 212910.8136615 , 210261.85847323, 198185.30043848,\n",
       "       143455.47106073, 220545.24868329, 129428.43620717, 140325.39984821,\n",
       "       194687.68163658, 164245.39097958, 231414.27434448, 135253.38915375,\n",
       "       219797.059225  , 218475.63316863, 161231.37040226, 200627.78414122,\n",
       "       162952.75561092, 154707.75675902, 160448.66030771, 207109.32476208,\n",
       "       232055.26973018, 199506.17219338, 143108.40211485, 221839.41490171,\n",
       "       196351.11108651, 160247.39634419, 133920.51807412, 151738.54944925,\n",
       "       179569.91037958, 194933.15426158, 133607.16433342, 153340.49144298,\n",
       "       116777.85595435, 189672.84653833, 136673.05408063, 187925.54126816,\n",
       "       174733.05190947, 251996.86450735, 206739.54330901, 166685.0271075 ,\n",
       "       167024.4678854 , 209280.26579965, 128930.48600763, 193137.46357093,\n",
       "       182898.32523201, 201778.89378518, 115611.24022466, 170051.4454212 ,\n",
       "       155012.15865915, 209304.92754747, 202751.10204243, 144978.78570303,\n",
       "       127099.82672242, 197865.15202144, 221647.87301103, 176767.22914883,\n",
       "       167368.6867675 , 175561.9916967 , 168839.97553943, 133495.4182115 ,\n",
       "       220463.11717888, 198525.4777394 , 187859.81556085, 154285.0728794 ,\n",
       "       205144.14058939, 130411.09844225, 161766.50381198, 188697.31436647,\n",
       "       247586.43871215, 223379.77263385, 159057.75531234, 168551.87441479,\n",
       "       149446.7220866 , 175904.4219791 , 137825.06237961, 180770.61517946,\n",
       "       167042.49460412, 178774.39539272, 181650.80249258, 198556.64023502,\n",
       "       164938.92196537, 221578.88625202, 145381.4786312 , 185969.53733705,\n",
       "       151521.86453516, 206063.68065586, 136287.33059113, 161511.61977522,\n",
       "       186629.95200716, 200751.11370336, 206615.98211092, 164512.38863986,\n",
       "       170585.89576701, 200492.26745436, 185681.57342016, 182684.12593788,\n",
       "       140775.20726461, 199280.26646325, 177654.94119756, 220120.42735785,\n",
       "       202995.24043481, 163713.42134276, 159108.86671474, 248781.22791511,\n",
       "       171850.84452413, 204110.51031807, 138071.98087207, 151500.01009674,\n",
       "       168518.99080156, 142206.29827826, 229869.19046586, 150687.66543178,\n",
       "       184389.75274574, 122357.10939351, 146896.74944998, 211480.78183179,\n",
       "       203797.41478364, 177935.92118885, 192423.28884755, 160839.00794079,\n",
       "       182250.17154976, 174264.32083791, 182228.9335835 , 143325.8187943 ,\n",
       "       216284.25765324, 210131.92557932, 171305.60596821, 185952.46735059,\n",
       "       222500.41553373, 138906.80657891, 191526.6826124 , 181808.74209619,\n",
       "       211612.98532562, 178954.85523421, 118595.81926924, 166919.85509586,\n",
       "       206073.34903247, 167025.92953518, 213575.72456004, 218549.69268162,\n",
       "       177411.86606402, 196719.25205547, 162251.24560479, 135234.38797718,\n",
       "       210693.36510307, 176656.84529902, 210980.32825572, 158141.33092137,\n",
       "       141618.30291843, 159182.75822914, 241234.90274711, 207562.31041755,\n",
       "       147574.58985991, 190851.29738689, 127563.63392162, 122631.61646934,\n",
       "       205120.67923013, 223726.50029296, 183016.42911121, 196624.08717724,\n",
       "       138160.8366613 , 147221.89031819, 204069.53821482, 210597.9197294 ,\n",
       "       196165.28781863, 185541.15159835, 177265.73958866, 196071.56679802,\n",
       "       147194.98777112, 175074.62337889, 176704.68145609, 187189.95968536,\n",
       "       171277.46627706, 138335.83749144, 164886.52803663, 210666.91105412,\n",
       "       176588.89775152, 232817.01355599, 197854.37536105, 231229.07646764,\n",
       "       134983.17500124, 159964.55424226, 207221.12929071, 233124.36671947,\n",
       "       201213.93642318, 188639.00659506, 208785.49701585, 161149.06037721,\n",
       "       157637.65810428, 166101.38986477, 259401.43578206, 206833.48260428,\n",
       "       214989.29237356, 213870.47621876, 223148.78867542, 137931.91674941,\n",
       "       184536.27462022, 187879.16859129, 194214.55174647, 218194.7140585 ,\n",
       "       148908.94209513, 183748.945727  , 171371.21362982, 220428.77670356,\n",
       "       248483.97590064, 163235.39391665, 165848.24639952, 157364.71465305,\n",
       "       142103.53625803, 206068.15702689, 215830.3629858 , 182528.82521894,\n",
       "       191801.72457007, 159201.98691484, 198603.67278936, 189138.59753387,\n",
       "       259060.20630756, 233763.81987406, 256521.24273425, 150155.51509461,\n",
       "       222604.81707032, 201627.25931805, 199853.21132237, 201895.94380412,\n",
       "       189508.72839045, 226847.06005501, 171024.9179537 , 230349.30897718,\n",
       "       124712.03395592, 156430.06985695, 206268.11725015, 188290.68486583,\n",
       "       158623.03571659, 201376.99692173, 136090.44543935, 206734.09217601,\n",
       "       165164.54072612, 201640.6405056 , 164565.8251371 , 200919.13136382,\n",
       "       184144.5984084 , 140123.95265031, 173838.69287982, 161136.16950701,\n",
       "       225581.69279626, 172613.80303449, 135785.0200782 , 248730.20375298,\n",
       "       158228.122287  , 159122.69465945, 230561.34812954, 177159.76895961,\n",
       "       220415.99805027, 180791.72860962, 213178.92431136, 159415.07173993,\n",
       "       232156.40579438, 211773.48466659, 147430.8885519 , 202531.29830633,\n",
       "       163022.81501473, 156902.38634999, 195689.58689389, 145190.68012636,\n",
       "       164728.74020527, 165306.83145672, 190840.55441796, 144682.73381887,\n",
       "       171593.89413531, 182731.73863963, 141867.85249044, 152098.68377818,\n",
       "       187935.21641164, 221577.12925214, 190886.76542403, 180083.56298512,\n",
       "       124303.42451622, 208598.44612369, 158805.53687985, 214699.47640019,\n",
       "       223053.67951429, 213982.25359229, 152704.54759142, 161036.67077044,\n",
       "       179347.71095109, 130255.12600874, 191589.97597609, 138589.22734011,\n",
       "       204123.84634958, 184243.86268061, 235240.96095795, 189943.97018642,\n",
       "       150482.34723883, 182885.8911248 , 190873.43950621, 168004.15368042,\n",
       "       169414.20857909, 197696.25335171, 159356.5119372 , 200052.26551553,\n",
       "       158641.67814325, 203721.80653513, 170386.86362399, 132932.72914361,\n",
       "       197545.05414593, 165904.8427368 , 147167.46686075, 115326.69877604,\n",
       "       170170.47124198, 223367.84711667, 131865.80217294, 205986.06480392,\n",
       "       269700.35996971, 212916.52487478, 140551.64859868, 203713.16394894,\n",
       "       165091.02905404, 218573.41002555, 206844.29711639, 192107.85019942,\n",
       "       213858.43846   , 149808.83235032, 159491.05240315, 169818.73173451,\n",
       "       209755.59774911, 195096.92010048, 155588.64554345, 199084.37026417,\n",
       "       200901.43726696, 174629.54715406, 132836.98078374, 171446.66921355,\n",
       "       199919.2165378 , 138577.30663661, 172090.23627385, 195843.76801178,\n",
       "       239708.0895871 , 226824.5723943 , 189664.41194803, 190665.01816938,\n",
       "       173603.70355705, 206463.47800981, 214553.99760224, 200378.44473732,\n",
       "       164538.01251963, 141238.86190868, 212892.77745545, 238492.99105472,\n",
       "       155558.21058307, 162177.89733089, 153611.14160003, 165690.91194087,\n",
       "       168213.51577442, 229876.59117033, 224279.01867948, 133526.2327493 ,\n",
       "       139650.42145796, 164357.7196865 , 135766.14165347, 230281.12330721,\n",
       "       186520.25115925, 156228.93698741, 212636.35243651, 157771.23564436,\n",
       "       232471.54189816, 178736.07121699, 186286.42967668, 195161.63321831,\n",
       "       183244.56356351, 246410.6699965 , 191622.20481473, 200042.06041162,\n",
       "       188072.36681815, 169310.07143943, 173372.02509442, 224413.97345883,\n",
       "       173899.78716235, 161948.84484524, 170738.7524417 , 166577.33791433,\n",
       "       200658.30920636, 200586.74898137, 146488.03876938, 189070.4562339 ,\n",
       "       197736.51252097, 212631.87877249, 228735.9232172 , 147246.08434544,\n",
       "       194147.06114826, 159747.67348399, 189521.32934789, 140287.45199659,\n",
       "       216313.73082857, 194308.43632068, 220081.14931255, 166714.0177545 ,\n",
       "       225043.43283874, 217666.94704263, 204481.60429884, 151206.35948381,\n",
       "       187056.26240451, 215062.77634339, 159079.89764352, 132886.11168918,\n",
       "       171609.36315993, 155267.06526908, 155580.30617519, 182529.17317333,\n",
       "       200077.13764157, 199461.95631944, 208107.43919476, 170877.90935292,\n",
       "       158378.71852801, 200187.71036598, 176473.42117896, 169843.19767856,\n",
       "       176638.35331288, 158184.97266546, 146661.71230125, 159904.31013845,\n",
       "       185934.22919457, 187434.78358581, 178224.71570757, 136590.32606865,\n",
       "       181455.59119248, 130154.12338559, 173523.69172557, 195211.74700234,\n",
       "       152932.93764106, 208134.03876744, 209156.50911499, 184253.96577512,\n",
       "       256552.05494436, 204652.29071815, 219692.23951075, 155800.08495882,\n",
       "       194559.39298609, 193559.83312453, 216374.23907188, 205737.05510463,\n",
       "       170388.31800768, 213047.75481282, 220732.76478712, 149221.17101783,\n",
       "       214611.39555641, 157054.04777139, 168189.11583044, 169525.87225651,\n",
       "       178513.45155684, 172935.91054656, 215674.05507816, 127155.30332696,\n",
       "       225013.37369907, 232509.12303816, 219684.31316504, 224717.74533194,\n",
       "       211944.42941372, 208402.53917898, 226045.31375523, 206953.94007008,\n",
       "       180143.19220081, 225593.18892608, 201079.38855133, 192354.7762268 ,\n",
       "       150415.8767278 , 208540.5273832 , 174093.23790824, 157774.24352474])"
      ]
     },
     "execution_count": 17,
     "metadata": {},
     "output_type": "execute_result"
    }
   ],
   "source": [
    "lr.predict(X_test)#predicted value"
   ]
  },
  {
   "cell_type": "code",
   "execution_count": 18,
   "id": "c5c19075",
   "metadata": {},
   "outputs": [
    {
     "name": "stdout",
     "output_type": "stream",
     "text": [
      "[138050.2145263  121885.16598506 123996.72562728 241056.5545722\n",
      " 221658.27637737 203381.53159755 160030.40072205 202133.34201522\n",
      " 177507.47896679 175722.2709691  146871.97439527 196749.12041634\n",
      " 152486.18500609 188512.26737892 181506.13766255 214524.95640172\n",
      " 164611.89033694 168784.57205143 197396.56458325 171687.55078458\n",
      " 178009.07476826 138073.66362113 222659.31439108 162498.60841444\n",
      " 239813.12615063 148506.30916781 155218.91260429 154767.66251787\n",
      " 170963.53145492 181183.95840888 160921.13734899 146350.53034327\n",
      " 196749.25716049 148838.68209538 166565.57904584 163447.30559557\n",
      " 172992.73548247 166692.48848909 197119.72786966 183390.70734478\n",
      " 208584.01160794 147724.98679143 169538.07575227 214543.54763866\n",
      " 213779.06511694 162268.99261655 195139.49167426 185525.91041711\n",
      " 158123.897267   167042.7116777  197696.72889124 197036.23632079\n",
      " 142135.87047515 197842.17814823 181761.07059029 157009.32692829\n",
      " 194990.93456022 163690.62226108 186766.89804723 137974.17320552\n",
      " 147558.66405741 169601.51820942 140551.98126794 169457.99413337\n",
      " 163233.93814691 187242.73520815 158931.28180832 201636.94277323\n",
      " 179472.3588855  172305.05549673 209120.1858727  168672.35318592\n",
      " 151982.54455527 190556.48404534 169719.09239671 138334.79628\n",
      " 166016.65368873 175077.47977101 174481.34356379 214242.08547028\n",
      " 163068.12149573 146972.3185708  158948.89136949 185855.40779517\n",
      " 215056.05477093 185517.12347749 191222.40813443 203913.61531604\n",
      " 182138.02980071 221536.53683169 185937.07556453 216123.72053532\n",
      " 239553.36669091 164890.64873213 168513.94256582 138719.58722531\n",
      " 148785.36173004 200938.69010369 145268.01847347 158071.13707472\n",
      " 120692.73187805 226789.73961639 208910.1926585  171848.45998693\n",
      " 205188.77899073 150871.6969471  145087.9419909  139116.80698576\n",
      " 170356.33344819 207513.00796771 220608.92018129 162688.51637417\n",
      " 161045.18506873 188396.42225551 205479.07112863 190796.50706488\n",
      " 147704.2319657  212910.8136615  210261.85847323 198185.30043848\n",
      " 143455.47106073 220545.24868329 129428.43620717 140325.39984821\n",
      " 194687.68163658 164245.39097958 231414.27434448 135253.38915375\n",
      " 219797.059225   218475.63316863 161231.37040226 200627.78414122\n",
      " 162952.75561092 154707.75675902 160448.66030771 207109.32476208\n",
      " 232055.26973018 199506.17219338 143108.40211485 221839.41490171\n",
      " 196351.11108651 160247.39634419 133920.51807412 151738.54944925\n",
      " 179569.91037958 194933.15426158 133607.16433342 153340.49144298\n",
      " 116777.85595435 189672.84653833 136673.05408063 187925.54126816\n",
      " 174733.05190947 251996.86450735 206739.54330901 166685.0271075\n",
      " 167024.4678854  209280.26579965 128930.48600763 193137.46357093\n",
      " 182898.32523201 201778.89378518 115611.24022466 170051.4454212\n",
      " 155012.15865915 209304.92754747 202751.10204243 144978.78570303\n",
      " 127099.82672242 197865.15202144 221647.87301103 176767.22914883\n",
      " 167368.6867675  175561.9916967  168839.97553943 133495.4182115\n",
      " 220463.11717888 198525.4777394  187859.81556085 154285.0728794\n",
      " 205144.14058939 130411.09844225 161766.50381198 188697.31436647\n",
      " 247586.43871215 223379.77263385 159057.75531234 168551.87441479\n",
      " 149446.7220866  175904.4219791  137825.06237961 180770.61517946\n",
      " 167042.49460412 178774.39539272 181650.80249258 198556.64023502\n",
      " 164938.92196537 221578.88625202 145381.4786312  185969.53733705\n",
      " 151521.86453516 206063.68065586 136287.33059113 161511.61977522\n",
      " 186629.95200716 200751.11370336 206615.98211092 164512.38863986\n",
      " 170585.89576701 200492.26745436 185681.57342016 182684.12593788\n",
      " 140775.20726461 199280.26646325 177654.94119756 220120.42735785\n",
      " 202995.24043481 163713.42134276 159108.86671474 248781.22791511\n",
      " 171850.84452413 204110.51031807 138071.98087207 151500.01009674\n",
      " 168518.99080156 142206.29827826 229869.19046586 150687.66543178\n",
      " 184389.75274574 122357.10939351 146896.74944998 211480.78183179\n",
      " 203797.41478364 177935.92118885 192423.28884755 160839.00794079\n",
      " 182250.17154976 174264.32083791 182228.9335835  143325.8187943\n",
      " 216284.25765324 210131.92557932 171305.60596821 185952.46735059\n",
      " 222500.41553373 138906.80657891 191526.6826124  181808.74209619\n",
      " 211612.98532562 178954.85523421 118595.81926924 166919.85509586\n",
      " 206073.34903247 167025.92953518 213575.72456004 218549.69268162\n",
      " 177411.86606402 196719.25205547 162251.24560479 135234.38797718\n",
      " 210693.36510307 176656.84529902 210980.32825572 158141.33092137\n",
      " 141618.30291843 159182.75822914 241234.90274711 207562.31041755\n",
      " 147574.58985991 190851.29738689 127563.63392162 122631.61646934\n",
      " 205120.67923013 223726.50029296 183016.42911121 196624.08717724\n",
      " 138160.8366613  147221.89031819 204069.53821482 210597.9197294\n",
      " 196165.28781863 185541.15159835 177265.73958866 196071.56679802\n",
      " 147194.98777112 175074.62337889 176704.68145609 187189.95968536\n",
      " 171277.46627706 138335.83749144 164886.52803663 210666.91105412\n",
      " 176588.89775152 232817.01355599 197854.37536105 231229.07646764\n",
      " 134983.17500124 159964.55424226 207221.12929071 233124.36671947\n",
      " 201213.93642318 188639.00659506 208785.49701585 161149.06037721\n",
      " 157637.65810428 166101.38986477 259401.43578206 206833.48260428\n",
      " 214989.29237356 213870.47621876 223148.78867542 137931.91674941\n",
      " 184536.27462022 187879.16859129 194214.55174647 218194.7140585\n",
      " 148908.94209513 183748.945727   171371.21362982 220428.77670356\n",
      " 248483.97590064 163235.39391665 165848.24639952 157364.71465305\n",
      " 142103.53625803 206068.15702689 215830.3629858  182528.82521894\n",
      " 191801.72457007 159201.98691484 198603.67278936 189138.59753387\n",
      " 259060.20630756 233763.81987406 256521.24273425 150155.51509461\n",
      " 222604.81707032 201627.25931805 199853.21132237 201895.94380412\n",
      " 189508.72839045 226847.06005501 171024.9179537  230349.30897718\n",
      " 124712.03395592 156430.06985695 206268.11725015 188290.68486583\n",
      " 158623.03571659 201376.99692173 136090.44543935 206734.09217601\n",
      " 165164.54072612 201640.6405056  164565.8251371  200919.13136382\n",
      " 184144.5984084  140123.95265031 173838.69287982 161136.16950701\n",
      " 225581.69279626 172613.80303449 135785.0200782  248730.20375298\n",
      " 158228.122287   159122.69465945 230561.34812954 177159.76895961\n",
      " 220415.99805027 180791.72860962 213178.92431136 159415.07173993\n",
      " 232156.40579438 211773.48466659 147430.8885519  202531.29830633\n",
      " 163022.81501473 156902.38634999 195689.58689389 145190.68012636\n",
      " 164728.74020527 165306.83145672 190840.55441796 144682.73381887\n",
      " 171593.89413531 182731.73863963 141867.85249044 152098.68377818\n",
      " 187935.21641164 221577.12925214 190886.76542403 180083.56298512\n",
      " 124303.42451622 208598.44612369 158805.53687985 214699.47640019\n",
      " 223053.67951429 213982.25359229 152704.54759142 161036.67077044\n",
      " 179347.71095109 130255.12600874 191589.97597609 138589.22734011\n",
      " 204123.84634958 184243.86268061 235240.96095795 189943.97018642\n",
      " 150482.34723883 182885.8911248  190873.43950621 168004.15368042\n",
      " 169414.20857909 197696.25335171 159356.5119372  200052.26551553\n",
      " 158641.67814325 203721.80653513 170386.86362399 132932.72914361\n",
      " 197545.05414593 165904.8427368  147167.46686075 115326.69877604\n",
      " 170170.47124198 223367.84711667 131865.80217294 205986.06480392\n",
      " 269700.35996971 212916.52487478 140551.64859868 203713.16394894\n",
      " 165091.02905404 218573.41002555 206844.29711639 192107.85019942\n",
      " 213858.43846    149808.83235032 159491.05240315 169818.73173451\n",
      " 209755.59774911 195096.92010048 155588.64554345 199084.37026417\n",
      " 200901.43726696 174629.54715406 132836.98078374 171446.66921355\n",
      " 199919.2165378  138577.30663661 172090.23627385 195843.76801178\n",
      " 239708.0895871  226824.5723943  189664.41194803 190665.01816938\n",
      " 173603.70355705 206463.47800981 214553.99760224 200378.44473732\n",
      " 164538.01251963 141238.86190868 212892.77745545 238492.99105472\n",
      " 155558.21058307 162177.89733089 153611.14160003 165690.91194087\n",
      " 168213.51577442 229876.59117033 224279.01867948 133526.2327493\n",
      " 139650.42145796 164357.7196865  135766.14165347 230281.12330721\n",
      " 186520.25115925 156228.93698741 212636.35243651 157771.23564436\n",
      " 232471.54189816 178736.07121699 186286.42967668 195161.63321831\n",
      " 183244.56356351 246410.6699965  191622.20481473 200042.06041162\n",
      " 188072.36681815 169310.07143943 173372.02509442 224413.97345883\n",
      " 173899.78716235 161948.84484524 170738.7524417  166577.33791433\n",
      " 200658.30920636 200586.74898137 146488.03876938 189070.4562339\n",
      " 197736.51252097 212631.87877249 228735.9232172  147246.08434544\n",
      " 194147.06114826 159747.67348399 189521.32934789 140287.45199659\n",
      " 216313.73082857 194308.43632068 220081.14931255 166714.0177545\n",
      " 225043.43283874 217666.94704263 204481.60429884 151206.35948381\n",
      " 187056.26240451 215062.77634339 159079.89764352 132886.11168918\n",
      " 171609.36315993 155267.06526908 155580.30617519 182529.17317333\n",
      " 200077.13764157 199461.95631944 208107.43919476 170877.90935292\n",
      " 158378.71852801 200187.71036598 176473.42117896 169843.19767856\n",
      " 176638.35331288 158184.97266546 146661.71230125 159904.31013845\n",
      " 185934.22919457 187434.78358581 178224.71570757 136590.32606865\n",
      " 181455.59119248 130154.12338559 173523.69172557 195211.74700234\n",
      " 152932.93764106 208134.03876744 209156.50911499 184253.96577512\n",
      " 256552.05494436 204652.29071815 219692.23951075 155800.08495882\n",
      " 194559.39298609 193559.83312453 216374.23907188 205737.05510463\n",
      " 170388.31800768 213047.75481282 220732.76478712 149221.17101783\n",
      " 214611.39555641 157054.04777139 168189.11583044 169525.87225651\n",
      " 178513.45155684 172935.91054656 215674.05507816 127155.30332696\n",
      " 225013.37369907 232509.12303816 219684.31316504 224717.74533194\n",
      " 211944.42941372 208402.53917898 226045.31375523 206953.94007008\n",
      " 180143.19220081 225593.18892608 201079.38855133 192354.7762268\n",
      " 150415.8767278  208540.5273832  174093.23790824 157774.24352474]\n"
     ]
    }
   ],
   "source": [
    "Y_predict=lr.predict(X_test)\n",
    "print(Y_predict)"
   ]
  },
  {
   "cell_type": "code",
   "execution_count": 19,
   "id": "4b2d792b",
   "metadata": {},
   "outputs": [
    {
     "data": {
      "text/plain": [
       "array([1.023e+03, 1.200e+02, 3.000e+00, 3.182e+03, 4.000e+00, 4.000e+00,\n",
       "       5.000e+00, 2.005e+03, 2.006e+03, 1.200e+01, 0.000e+00, 1.346e+03])"
      ]
     },
     "execution_count": 19,
     "metadata": {},
     "output_type": "execute_result"
    }
   ],
   "source": [
    "X_test[13,:]"
   ]
  },
  {
   "cell_type": "code",
   "execution_count": 20,
   "id": "bdf06be6",
   "metadata": {},
   "outputs": [
    {
     "data": {
      "text/plain": [
       "array([188512.26737892])"
      ]
     },
     "execution_count": 20,
     "metadata": {},
     "output_type": "execute_result"
    }
   ],
   "source": [
    "lr.predict([X_test[13,:]])"
   ]
  },
  {
   "cell_type": "code",
   "execution_count": 21,
   "id": "37e572a7",
   "metadata": {},
   "outputs": [
    {
     "data": {
      "text/plain": [
       "34.11693341233336"
      ]
     },
     "execution_count": 21,
     "metadata": {},
     "output_type": "execute_result"
    }
   ],
   "source": [
    "lr.score(X_test,Y_test)*100"
   ]
  },
  {
   "cell_type": "code",
   "execution_count": 22,
   "id": "4120f3ea",
   "metadata": {},
   "outputs": [
    {
     "name": "stdout",
     "output_type": "stream",
     "text": [
      "31093.106460825955\n"
     ]
    }
   ],
   "source": [
    "from sklearn.metrics import mean_absolute_error #error\n",
    "m=mean_absolute_error(Y_test,Y_predict)\n",
    "print(m)"
   ]
  },
  {
   "cell_type": "code",
   "execution_count": 23,
   "id": "b298717e",
   "metadata": {},
   "outputs": [
    {
     "name": "stdout",
     "output_type": "stream",
     "text": [
      "Mean Squared Error: 1640693556.1556945\n",
      "R-squared: 0.3411693341233336\n",
      "MSE 1640693556.1556945\n"
     ]
    }
   ],
   "source": [
    "# Calculate and print metrics\n",
    "from sklearn.metrics import mean_squared_error, r2_score\n",
    "mse = mean_squared_error(Y_test, Y_predict)\n",
    "r2 = r2_score(Y_test,Y_predict)\n",
    "print(f'Mean Squared Error: {mse}')\n",
    "print(f'R-squared: {r2}')\n",
    "print(\"MSE\",mse)"
   ]
  },
  {
   "cell_type": "code",
   "execution_count": 30,
   "id": "d5042d0f",
   "metadata": {},
   "outputs": [
    {
     "data": {
      "image/png": "[encoded data removed]",
      "text/plain": [
       "<Figure size 640x480 with 1 Axes>"
      ]
     },
     "metadata": {},
     "output_type": "display_data"
    }
   ],
   "source": [
    "# Visualize Results: Actual vs Predicted SalePrice\n",
    "import matplotlib.pyplot as plt\n",
    "import seaborn as sns\n",
    "\n",
    "#plt.figure(figsize=(10, 6))\n",
    "#sns.scatterplot(x=Y_test, y=Y_predict)\n",
    "plt.scatter(Y_test,Y_predict,color=\"blue\")\n",
    "plt.title('Actual vs Predicted SalePrice')\n",
    "plt.xlabel('Actual SalePrice')\n",
    "plt.ylabel('Predicted SalePrice')\n",
    "plt.show()"
   ]
  },
  {
   "cell_type": "code",
   "execution_count": 25,
   "id": "b416d726",
   "metadata": {},
   "outputs": [
    {
     "data": {
      "image/png": "[encoded data removed]",
      "text/plain": [
       "<Figure size 640x480 with 1 Axes>"
      ]
     },
     "metadata": {},
     "output_type": "display_data"
    }
   ],
   "source": [
    "\n",
    "plt.scatter(Y_test, Y_predict, color=\"blue\")\n",
    "plt.title(\"Actual vs Predicted Values\")\n",
    "plt.xlabel(\"Actual Values\")\n",
    "plt.ylabel(\"Predicted Values\")\n",
    "plt.show()"
   ]
  },
  {
   "cell_type": "code",
   "execution_count": 26,
   "id": "35facfa5",
   "metadata": {},
   "outputs": [
    {
     "name": "stdout",
     "output_type": "stream",
     "text": [
      "Requirement already satisfied: seaborn in c:\\users\\hp\\appdata\\local\\programs\\python\\python312\\lib\\site-packages (0.13.1)\n",
      "Requirement already satisfied: numpy!=1.24.0,>=1.20 in c:\\users\\hp\\appdata\\local\\programs\\python\\python312\\lib\\site-packages (from seaborn) (1.26.2)\n",
      "Requirement already satisfied: pandas>=1.2 in c:\\users\\hp\\appdata\\local\\programs\\python\\python312\\lib\\site-packages (from seaborn) (2.1.4)\n",
      "Requirement already satisfied: matplotlib!=3.6.1,>=3.4 in c:\\users\\hp\\appdata\\local\\programs\\python\\python312\\lib\\site-packages (from seaborn) (3.8.2)\n",
      "Requirement already satisfied: contourpy>=1.0.1 in c:\\users\\hp\\appdata\\local\\programs\\python\\python312\\lib\\site-packages (from matplotlib!=3.6.1,>=3.4->seaborn) (1.2.0)\n",
      "Requirement already satisfied: cycler>=0.10 in c:\\users\\hp\\appdata\\local\\programs\\python\\python312\\lib\\site-packages (from matplotlib!=3.6.1,>=3.4->seaborn) (0.12.1)\n",
      "Requirement already satisfied: fonttools>=4.22.0 in c:\\users\\hp\\appdata\\local\\programs\\python\\python312\\lib\\site-packages (from matplotlib!=3.6.1,>=3.4->seaborn) (4.47.0)\n",
      "Requirement already satisfied: kiwisolver>=1.3.1 in c:\\users\\hp\\appdata\\local\\programs\\python\\python312\\lib\\site-packages (from matplotlib!=3.6.1,>=3.4->seaborn) (1.4.5)\n",
      "Requirement already satisfied: packaging>=20.0 in c:\\users\\hp\\appdata\\local\\programs\\python\\python312\\lib\\site-packages (from matplotlib!=3.6.1,>=3.4->seaborn) (23.2)\n",
      "Requirement already satisfied: pillow>=8 in c:\\users\\hp\\appdata\\local\\programs\\python\\python312\\lib\\site-packages (from matplotlib!=3.6.1,>=3.4->seaborn) (10.1.0)\n",
      "Requirement already satisfied: pyparsing>=2.3.1 in c:\\users\\hp\\appdata\\local\\programs\\python\\python312\\lib\\site-packages (from matplotlib!=3.6.1,>=3.4->seaborn) (3.1.1)\n",
      "Requirement already satisfied: python-dateutil>=2.7 in c:\\users\\hp\\appdata\\local\\programs\\python\\python312\\lib\\site-packages (from matplotlib!=3.6.1,>=3.4->seaborn) (2.8.2)\n",
      "Requirement already satisfied: pytz>=2020.1 in c:\\users\\hp\\appdata\\local\\programs\\python\\python312\\lib\\site-packages (from pandas>=1.2->seaborn) (2023.3.post1)\n",
      "Requirement already satisfied: tzdata>=2022.1 in c:\\users\\hp\\appdata\\local\\programs\\python\\python312\\lib\\site-packages (from pandas>=1.2->seaborn) (2023.3)\n",
      "Requirement already satisfied: six>=1.5 in c:\\users\\hp\\appdata\\local\\programs\\python\\python312\\lib\\site-packages (from python-dateutil>=2.7->matplotlib!=3.6.1,>=3.4->seaborn) (1.16.0)\n",
      "Note: you may need to restart the kernel to use updated packages.\n"
     ]
    }
   ],
   "source": [
    "pip install seaborn"
   ]
  }
 ],
 "metadata": {
  "kernelspec": {
   "display_name": "Python 3 (ipykernel)",
   "language": "python",
   "name": "python3"
  },
  "language_info": {
   "codemirror_mode": {
    "name": "ipython",
    "version": 3
   },
   "file_extension": ".py",
   "mimetype": "text/x-python",
   "name": "python",
   "nbconvert_exporter": "python",
   "pygments_lexer": "ipython3",
   "version": "3.12.1"
  }
 },
 "nbformat": 4,
 "nbformat_minor": 5
}
