{
 "cells": [
  {
   "cell_type": "code",
   "execution_count": 1,
   "id": "b211013d",
   "metadata": {},
   "outputs": [
    {
     "name": "stdout",
     "output_type": "stream",
     "text": [
      "14\n",
      "5\n",
      "301\n",
      "301\n",
      "Copysign of 5.2 and -25 is: -5.2\n",
      "3.4\n",
      "6\n",
      "1.0\n",
      "(0.5, 4)\n",
      "1.0\n",
      "True\n",
      "False\n",
      "False\n",
      "False\n",
      "False\n",
      "False\n",
      "False\n",
      "True\n",
      "False\n",
      "True\n",
      "True\n",
      "64.0\n",
      "(0.5, 9.0)\n",
      "-5\n",
      "54.598150033144236\n",
      "53.598150033144236\n",
      "2.0\n",
      "5.0\n",
      "120.0\n",
      "2.718281828459045\n",
      "nan\n",
      "3.141592653589793\n",
      "12\n"
     ]
    },
    {
     "name": "stdout",
     "output_type": "stream",
     "text": [
      "[1 2 3 4]\n",
      "[1. 2. 3. 4.]\n",
      "['1' '2.0' '3' '4' 'hello' '4']\n",
      "1\n",
      "[[1 2 3]\n",
      " [4 5 6]\n",
      " [7 8 9]]\n",
      "[1. 1. 1. 1. 1.]\n",
      "[[0.68641415 0.1097333  0.61559467]\n",
      " [0.06958853 0.75570364 0.92561064]\n",
      " [0.50287581 0.62902566 0.11261727]]\n",
      "[[1 2]\n",
      " [3 4]]\n",
      "[[1 2 3]\n",
      " [4 5 6]]\n",
      "[2 4]\n",
      "[2 5 8]\n",
      "[9 8 7 6 5 4 3 2 1]\n",
      "[9 8 7 6 5 4 3]\n",
      "9\n",
      "[9]\n",
      "[9 7 5 3 1]\n",
      "[[ 2  1  3]\n",
      " [ 1  2  3]\n",
      " [ 3  3 20]]\n",
      "[21.+0.j  1.+0.j  2.+0.j]\n",
      "[[-1.62221421e-01 -7.07106781e-01 -6.88247202e-01]\n",
      " [-1.62221421e-01  7.07106781e-01 -6.88247202e-01]\n",
      " [-9.73328527e-01 -1.67707020e-16  2.29415734e-01]]\n"
     ]
    },
    {
     "data": {
      "text/plain": [
       "array([[ 0.73809524, -0.26190476, -0.07142857],\n",
       "       [-0.26190476,  0.73809524, -0.07142857],\n",
       "       [-0.07142857, -0.07142857,  0.07142857]])"
      ]
     },
     "execution_count": 1,
     "metadata": {},
     "output_type": "execute_result"
    }
   ],
   "source": [
    "import math as m\n",
    "\n",
    "print(m.ceil(13.89));\n",
    "print(m.ceil(4.5));\n",
    "\n",
    "print(m.ceil(300.16));\n",
    "print(m.ceil(300.99));\n",
    "\n",
    "a=5.2\n",
    "b=-25\n",
    "\n",
    "print(\"Copysign of 5.2 and -25 is:\",end=\" \");\n",
    "print(m.copysign(a,b));\n",
    "\n",
    "print(m.fabs(-3.4));\n",
    "\n",
    "print(m.factorial(3));\n",
    "\n",
    "print(m.fmod(4,3));\n",
    "\n",
    "print(m.frexp(8));  #4 is exponential value\n",
    "\n",
    "#print(sum([.1,.1,.1,.1,.1,.1,.1,.1,.1,.1])); output is:- 0.99999999999999999\n",
    "print(m.fsum([.1,.1,.1,.1,.1,.1,.1,.1,.1,.1]));\n",
    "\n",
    "print(m.isfinite(200));\n",
    "print(m.isfinite(m.inf));\n",
    "print(m.isfinite(-m.inf));\n",
    "print(m.isfinite(m.nan));\n",
    "\n",
    "#isinf\n",
    "print(m.isinf(200));\n",
    "\n",
    "#isnan\n",
    "print(m.isnan(200));\n",
    "print(m.isnan(-45.30));\n",
    "print(m.isnan(float(\"nan\")));\n",
    "print(m.isnan(float(\"inf\")));\n",
    "print(m.isnan(float(\"-nan\")));\n",
    "print(m.isnan(m.nan));\n",
    "\n",
    "#ldexp\n",
    "print(m.ldexp(2,5));  #x 8(2 ^ i)\n",
    "\n",
    "print(m.modf(9.5));\n",
    "\n",
    "#truncate\n",
    "print(m.trunc(-5.2));\n",
    "\n",
    "#exp\n",
    "print(m.exp(4));    # E ^ xX is the base of natural system\n",
    "\n",
    "print(m.expm1(4));    \n",
    "\n",
    "print(m.log(4,2));\n",
    "\n",
    "#hypot\n",
    "print(m.hypot(4,3));\n",
    "\n",
    "#gamma\n",
    "print(m.gamma(6));\n",
    "\n",
    "print(m.e);\n",
    "print(m.nan);\n",
    "print(m.pi);\n",
    "\n",
    "print(m.gcd(12,36));\n",
    "\n",
    "import numpy as np\n",
    "\n",
    "a=np.array([1,2,3,4])\n",
    "print(a)\n",
    "\n",
    "b=np.array([1,2,3,4],dtype=np.float32)\n",
    "print(b)\n",
    "\n",
    "c=np.array([1,2.0,3,4,\"hello\",4])\n",
    "print(c)\n",
    "\n",
    "c=np.array([1,2.0,3,4,\"hello\",4])\n",
    "print(c.ndim)\n",
    "\n",
    "d=np.array([[1,2,3],[4,5,6],[7,8,9]])\n",
    "print(d)\n",
    "\n",
    "a=np.ones(5)\n",
    "print(a)\n",
    "\n",
    "a=np.random.rand(3,3)\n",
    "print(a)\n",
    "\n",
    "np.random.randint(7,size=(3,3))\n",
    "\n",
    "np.full((3,3),1)\n",
    "\n",
    "np.eye(3,k=0)\n",
    "\n",
    "np.eye(3,k=1)\n",
    "\n",
    "np.eye(3,k=-1)\n",
    "\n",
    "np.eye(3,k=2)\n",
    "\n",
    "np.arange(10)\n",
    "\n",
    "a=np.array([[1,2,3],[4,5,6]])\n",
    "a.shape\n",
    "\n",
    "a.size\n",
    "\n",
    "b=np.array([1,2,3,4])\n",
    "c=np.reshape(b,(2,2))\n",
    "print(c)\n",
    "\n",
    "\n",
    "a=np.array([[1,2,3],[4,5,6]])#convert row and column\n",
    "print(a)\n",
    "np.transpose(a)\n",
    "\n",
    "#Slicing numpy = number operation\n",
    "\n",
    "l=np.array([1,2,3,4,5,6,7,8,9])\n",
    "print(l[1:4:2])\n",
    "\n",
    "#Slicing\n",
    "\n",
    "l=np.array([1,2,3,4,5,6,7,8,9])\n",
    "print(l[1:9:3])\n",
    "print(l[::-1])\n",
    "print(l[:1:-1])\n",
    "print(l[-1])\n",
    "print(l[-1:])\n",
    "print(l[9::-2])\n",
    "\n",
    "import scipy\n",
    "\n",
    "#pip install scipy\n",
    "\n",
    "import scipy\n",
    "\n",
    "#determinent of matrix |A|\n",
    "d=np.array([[2,1,3],[1,2,3],[3,3,20]])\n",
    "print(d)\n",
    "from scipy import linalg\n",
    "linalg.det(d)\n",
    "\n",
    "eigen_values,eigen_vectors = linalg.eig(d)\n",
    "print(eigen_values)\n",
    "print(eigen_vectors)\n",
    "\n",
    "scipy.linalg.inv(d)\n"
   ]
  },
  {
   "cell_type": "code",
   "execution_count": 2,
   "id": "dccecedb",
   "metadata": {},
   "outputs": [
    {
     "name": "stdout",
     "output_type": "stream",
     "text": [
      "The average of list values is : 2.4444444444444446\n",
      "The maximum occurring element is : 2\n",
      "The median of list element is : 2\n",
      "The lower median of list element is : 2\n",
      "The higher median of list element is : 2\n",
      "The 50th percentile of data is : 2.3333333333333335\n",
      "The harmonic mean is : 1.9285714285714286\n"
     ]
    }
   ],
   "source": [
    "\n",
    "import statistics\n",
    "\n",
    "li = [1, 2, 3, 3, 4, 4, 2, 2, 1]\n",
    "\n",
    "# using mean() to calculate average of list elements\n",
    "print (\"The average of list values is : \",end=\"\")\n",
    "print (statistics.mean(li))\n",
    "\n",
    "# using mode() to print maximum occurring of list elements\n",
    "print (\"The maximum occurring element is : \",end=\"\")\n",
    "print (statistics.mode(li))\n",
    "\n",
    "# using median() to print median of list elements\n",
    "print (\"The median of list element is : \",end=\"\")\n",
    "print (statistics.median(li))\n",
    "  \n",
    "# using median_low() to print low median of list elements\n",
    "print (\"The lower median of list element is : \",end=\"\")\n",
    "print (statistics.median_low(li))\n",
    "  \n",
    "# using median_high() to print high median of list elements\n",
    "print (\"The higher median of list element is : \",end=\"\")\n",
    "print (statistics.median_high(li))\n",
    "\n",
    "# using median_grouped() to calculate 50th percentile\n",
    "print (\"The 50th percentile of data is : \",end=\"\")\n",
    "print (statistics.median_grouped(li))\n",
    "\n",
    "# using median_grouped() to calculate 50th percentile\n",
    "print (\"The harmonic mean is : \",end=\"\")\n",
    "print (statistics.harmonic_mean(li))"
   ]
  },
  {
   "cell_type": "code",
   "execution_count": 3,
   "id": "487e4a0e",
   "metadata": {},
   "outputs": [
    {
     "name": "stdout",
     "output_type": "stream",
     "text": [
      "The variance of data is : 0.6666666666666666\n",
      "The population variance of data is : 0.5555555555555556\n",
      "The standard deviation of data is : 0.816496580927726\n",
      "The population standard deviation of data is : 0.7453559924999299\n"
     ]
    }
   ],
   "source": [
    "import statistics\n",
    "\n",
    "# initializing list\n",
    "li = [1.5, 2.5, 2.5, 3.5, 3.5, 3.5]\n",
    "\n",
    "# using variance to calculate variance of data\n",
    "print (\"The variance of data is : \",end=\"\")\n",
    "print (statistics.variance(li))\n",
    "\n",
    "# using pvariance to calculate population variance of data\n",
    "print (\"The population variance of data is : \",end=\"\")\n",
    "print (statistics.pvariance(li))\n",
    "\n",
    "# using stdev to calculate standard deviation of data\n",
    "print (\"The standard deviation of data is : \",end=\"\")\n",
    "print (statistics.stdev(li))\n",
    "  \n",
    "# using pstdev to calculate population standard deviation of data\n",
    "print (\"The population standard deviation of data is : \",end=\"\")\n",
    "print (statistics.pstdev(li))\n"
   ]
  },
  {
   "cell_type": "code",
   "execution_count": 4,
   "id": "8f31f7ea",
   "metadata": {},
   "outputs": [
    {
     "name": "stdout",
     "output_type": "stream",
     "text": [
      "15\n",
      "11\n",
      "16.285714285714285\n",
      "15\n",
      "15\n",
      "15.0\n",
      "13.396851698425849\n"
     ]
    }
   ],
   "source": [
    "import statistics \n",
    "li=[7,11,11,15,22,20,28]\n",
    "\n",
    "print(statistics.median(li))\n",
    "print(statistics.mode(li))\n",
    "print(statistics.mean(li))\n",
    "print(statistics.median_low(li))\n",
    "print(statistics.median_high(li))\n",
    "print(statistics.median_grouped(li))\n",
    "print(statistics.harmonic_mean(li))"
   ]
  },
  {
   "cell_type": "code",
   "execution_count": 5,
   "metadata": {},
   "outputs": [],
   "source": [
    "import pandas as pd\n",
    "import statistics\n",
    "import seaborn as sns\n"
   ]
  },
  {
   "cell_type": "code",
   "execution_count": 6,
   "metadata": {},
   "outputs": [
    {
     "data": {
      "text/html": [
       "<div>\n",
       "<style scoped>\n",
       "    .dataframe tbody tr th:only-of-type {\n",
       "        vertical-align: middle;\n",
       "    }\n",
       "\n",
       "    .dataframe tbody tr th {\n",
       "        vertical-align: top;\n",
       "    }\n",
       "\n",
       "    .dataframe thead th {\n",
       "        text-align: right;\n",
       "    }\n",
       "</style>\n",
       "<table border=\"1\" class=\"dataframe\">\n",
       "  <thead>\n",
       "    <tr style=\"text-align: right;\">\n",
       "      <th></th>\n",
       "      <th>User ID</th>\n",
       "      <th>Gender</th>\n",
       "      <th>Age</th>\n",
       "      <th>EstimatedSalary</th>\n",
       "      <th>Purchased</th>\n",
       "    </tr>\n",
       "  </thead>\n",
       "  <tbody>\n",
       "    <tr>\n",
       "      <th>0</th>\n",
       "      <td>15624510</td>\n",
       "      <td>Male</td>\n",
       "      <td>19</td>\n",
       "      <td>19000</td>\n",
       "      <td>0</td>\n",
       "    </tr>\n",
       "    <tr>\n",
       "      <th>1</th>\n",
       "      <td>15810944</td>\n",
       "      <td>Male</td>\n",
       "      <td>35</td>\n",
       "      <td>20000</td>\n",
       "      <td>0</td>\n",
       "    </tr>\n",
       "    <tr>\n",
       "      <th>2</th>\n",
       "      <td>15668575</td>\n",
       "      <td>Female</td>\n",
       "      <td>26</td>\n",
       "      <td>43000</td>\n",
       "      <td>0</td>\n",
       "    </tr>\n",
       "    <tr>\n",
       "      <th>3</th>\n",
       "      <td>15603246</td>\n",
       "      <td>Female</td>\n",
       "      <td>27</td>\n",
       "      <td>57000</td>\n",
       "      <td>0</td>\n",
       "    </tr>\n",
       "    <tr>\n",
       "      <th>4</th>\n",
       "      <td>15804002</td>\n",
       "      <td>Male</td>\n",
       "      <td>19</td>\n",
       "      <td>76000</td>\n",
       "      <td>0</td>\n",
       "    </tr>\n",
       "  </tbody>\n",
       "</table>\n",
       "</div>"
      ],
      "text/plain": [
       "    User ID  Gender  Age  EstimatedSalary  Purchased\n",
       "0  15624510    Male   19            19000          0\n",
       "1  15810944    Male   35            20000          0\n",
       "2  15668575  Female   26            43000          0\n",
       "3  15603246  Female   27            57000          0\n",
       "4  15804002    Male   19            76000          0"
      ]
     },
     "execution_count": 6,
     "metadata": {},
     "output_type": "execute_result"
    }
   ],
   "source": [
    "df = pd.read_csv(\"C:\\\\Users\\\\HP\\\\Downloads\\\\purchase.csv\")\n",
    "df.head()\n"
   ]
  },
  {
   "cell_type": "code",
   "execution_count": 10,
   "metadata": {},
   "outputs": [
    {
     "name": "stdout",
     "output_type": "stream",
     "text": [
      "Mean: 2.5\n",
      "Mode: Male\n",
      "Median: 2.5\n"
     ]
    }
   ],
   "source": [
    "import pandas as pd\n",
    "from statistics import mode\n",
    "\n",
    "# Assuming 'data' is your DataFrame\n",
    "data = {\n",
    "    'User ID': [15624510, 15810944, 15668575, 15603246, 15804002],\n",
    "    'Gender': ['Male', 'Male', 'Female', 'Female', 'Male'],\n",
    "    'Age': [19, 35, 26, 27, 19],\n",
    "    'EstimatedSalary': [19000, 20000, 43000, 57000, 76000],\n",
    "    'Purchased': [0, 0, 0, 0, 0]\n",
    "}\n",
    "df = pd.DataFrame(data)\n",
    "\n",
    "# Calculate mean\n",
    "gender_mean = df['Gender'].value_counts().mean()\n",
    "\n",
    "# Calculate mode\n",
    "gender_mode = mode(df['Gender'])\n",
    "\n",
    "# Calculate median\n",
    "gender_median = df['Gender'].value_counts().median()\n",
    "\n",
    "print(f\"Mean: {gender_mean}\")\n",
    "print(f\"Mode: {gender_mode}\")\n",
    "print(f\"Median: {gender_median}\")"
   ]
  },
  {
   "cell_type": "code",
   "execution_count": 7,
   "metadata": {},
   "outputs": [
    {
     "data": {
      "text/plain": [
       "(400, 5)"
      ]
     },
     "execution_count": 7,
     "metadata": {},
     "output_type": "execute_result"
    }
   ],
   "source": [
    "df.shape"
   ]
  },
  {
   "cell_type": "code",
   "execution_count": 11,
   "metadata": {},
   "outputs": [
    {
     "data": {
      "text/plain": [
       "pandas.core.series.Series"
      ]
     },
     "execution_count": 11,
     "metadata": {},
     "output_type": "execute_result"
    }
   ],
   "source": [
    "Age1=df['Age']\n",
    "type(Age1)\n"
   ]
  },
  {
   "cell_type": "code",
   "execution_count": 12,
   "metadata": {},
   "outputs": [
    {
     "data": {
      "text/plain": [
       "25.2"
      ]
     },
     "execution_count": 12,
     "metadata": {},
     "output_type": "execute_result"
    }
   ],
   "source": [
    "statistics.mean(Age1)\n"
   ]
  },
  {
   "cell_type": "code",
   "execution_count": null,
   "metadata": {},
   "outputs": [
    {
     "data": {
      "text/plain": [
       "37.0"
      ]
     },
     "execution_count": 32,
     "metadata": {},
     "output_type": "execute_result"
    }
   ],
   "source": [
    "statistics.median(Age1)"
   ]
  },
  {
   "cell_type": "code",
   "execution_count": null,
   "metadata": {},
   "outputs": [
    {
     "data": {
      "text/plain": [
       "35"
      ]
     },
     "execution_count": 33,
     "metadata": {},
     "output_type": "execute_result"
    }
   ],
   "source": [
    "statistics.mode(Age1)"
   ]
  },
  {
   "cell_type": "code",
   "execution_count": null,
   "metadata": {},
   "outputs": [
    {
     "data": {
      "text/plain": [
       "109.89070175438596"
      ]
     },
     "execution_count": 34,
     "metadata": {},
     "output_type": "execute_result"
    }
   ],
   "source": [
    "statistics.variance(Age1)"
   ]
  },
  {
   "cell_type": "code",
   "execution_count": null,
   "metadata": {},
   "outputs": [
    {
     "data": {
      "text/plain": [
       "count    400.000000\n",
       "mean      37.655000\n",
       "std       10.482877\n",
       "min       18.000000\n",
       "25%       29.750000\n",
       "50%       37.000000\n",
       "75%       46.000000\n",
       "max       60.000000\n",
       "Name: Age, dtype: float64"
      ]
     },
     "execution_count": 35,
     "metadata": {},
     "output_type": "execute_result"
    }
   ],
   "source": [
    "Age1.describe() #quality range"
   ]
  },
  {
   "cell_type": "code",
   "execution_count": null,
   "metadata": {},
   "outputs": [
    {
     "name": "stdout",
     "output_type": "stream",
     "text": [
      "60\n"
     ]
    }
   ],
   "source": [
    "max1=max(Age1)\n",
    "print(max1)"
   ]
  },
  {
   "cell_type": "code",
   "execution_count": null,
   "metadata": {},
   "outputs": [
    {
     "name": "stdout",
     "output_type": "stream",
     "text": [
      "18\n"
     ]
    }
   ],
   "source": [
    "min1=min(Age1)\n",
    "print(min1)"
   ]
  },
  {
   "cell_type": "code",
   "execution_count": null,
   "metadata": {},
   "outputs": [
    {
     "name": "stdout",
     "output_type": "stream",
     "text": [
      "42\n"
     ]
    }
   ],
   "source": [
    "range=max1-min1\n",
    "print(range)"
   ]
  },
  {
   "cell_type": "code",
   "execution_count": null,
   "metadata": {},
   "outputs": [
    {
     "data": {
      "text/plain": [
       "27.839268615875483"
      ]
     },
     "execution_count": 36,
     "metadata": {},
     "output_type": "execute_result"
    }
   ],
   "source": [
    "statistics.stdev(Age1)/statistics.mean(Age1)*100   #coefficient of variation"
   ]
  },
  {
   "cell_type": "code",
   "execution_count": null,
   "metadata": {},
   "outputs": [],
   "source": [
    "statistics.mode(Age1)"
   ]
  }
 ],
 "metadata": {
  "kernelspec": {
   "display_name": "Python 3 (ipykernel)",
   "language": "python",
   "name": "python3"
  },
  "language_info": {
   "codemirror_mode": {
    "name": "ipython",
    "version": 3
   },
   "file_extension": ".py",
   "mimetype": "text/x-python",
   "name": "python",
   "nbconvert_exporter": "python",
   "pygments_lexer": "ipython3",
   "version": "3.11.3"
  }
 },
 "nbformat": 4,
 "nbformat_minor": 5
}
